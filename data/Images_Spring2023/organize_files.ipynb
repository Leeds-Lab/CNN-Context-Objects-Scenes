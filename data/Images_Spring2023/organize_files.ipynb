{
 "cells": [
  {
   "cell_type": "code",
   "execution_count": 5,
   "metadata": {},
   "outputs": [],
   "source": [
    "import os, re, glob"
   ]
  },
  {
   "cell_type": "code",
   "execution_count": 11,
   "metadata": {},
   "outputs": [],
   "source": [
    "# add numbers to contexts\n",
    "\n",
    "step = 0\n",
    "for root, dir, file in os.walk(\"./\"):\n",
    "    # print(root,dir,file)\n",
    "    for ele in sorted(dir):\n",
    "        if ele.startswith(\".\"):\n",
    "            continue\n",
    "        if step ==1:\n",
    "            src_path = os.path.join(root,ele)\n",
    "            # idx = \"{:02d}\".format(idx)\n",
    "            # ele = idx + ele\n",
    "            dest_path = os.path.join(root,ele)\n",
    "            \n",
    "            # os.rename(src_path, dest_path)\n",
    "            pattern = re.compile(r\".*(\\..*)$\")\n",
    "            # print(ele)\n",
    "            os.rmdir(os.path.join(root,ele))\n",
    "            # for idx, image_file in enumerate(os.listdir(os.path.join(root,ele))):\n",
    "\n",
    "            #     extension = re.match(pattern,image_file).group(1)\n",
    "            #     src_img_file_path = os.path.join(root,ele,image_file)  #./*/camera4.jpg\n",
    "            #     renamed = os.path.join(root,ele.replace(\" \",\"\") + str(idx+1) + extension)\n",
    "\n",
    "            #     print(image_file)\n",
    "                # print(src_img_file_path, renamed)\n",
    "                # os.rename(src_img_file_path, renamed) \n",
    "                 \n",
    "\n",
    "        \n",
    "    step =1"
   ]
  },
  {
   "cell_type": "code",
   "execution_count": null,
   "metadata": {},
   "outputs": [],
   "source": []
  },
  {
   "cell_type": "code",
   "execution_count": 5,
   "metadata": {},
   "outputs": [
    {
     "data": {
      "text/plain": [
       "['.DS_Store',\n",
       " '.ipynb_checkpoints',\n",
       " 'Accidents',\n",
       " 'Alcohol',\n",
       " 'Art',\n",
       " 'Autoparts',\n",
       " 'Baby',\n",
       " 'Backyard',\n",
       " 'Barber',\n",
       " 'Baseball',\n",
       " 'Baseball-Player',\n",
       " 'Basketball',\n",
       " 'Bathroom',\n",
       " 'Bathtime',\n",
       " 'Beach-toys',\n",
       " 'Bedroom',\n",
       " 'Bike-Rider',\n",
       " 'Biking',\n",
       " 'Birds',\n",
       " 'Bowling',\n",
       " 'Boxing',\n",
       " 'Burger',\n",
       " 'Camera-Equipment',\n",
       " 'Carpet',\n",
       " 'Casino',\n",
       " 'Cheese',\n",
       " 'Chess',\n",
       " 'Cleaning',\n",
       " 'Clothing',\n",
       " 'Computer',\n",
       " 'Construction',\n",
       " 'Cooking',\n",
       " 'Cowboy',\n",
       " 'Cutlery',\n",
       " 'Decor',\n",
       " 'Dining',\n",
       " 'Entertainment-Center',\n",
       " 'Farm',\n",
       " 'Farm-Animals',\n",
       " 'Fishtank',\n",
       " 'Formal Wear',\n",
       " 'Garbage',\n",
       " 'Gardening',\n",
       " 'Golf',\n",
       " 'Grocery-Shopping',\n",
       " 'Highway',\n",
       " 'Kitchen',\n",
       " 'Kitchen-Appliance',\n",
       " 'Laptop-Bag',\n",
       " 'Laundry',\n",
       " 'Lock',\n",
       " 'Makeup',\n",
       " 'Ocean',\n",
       " 'Office-Supply',\n",
       " 'Pancakes',\n",
       " 'Party',\n",
       " 'Rain',\n",
       " 'Restroom',\n",
       " 'Security-Personnel',\n",
       " 'Stationary',\n",
       " 'Study',\n",
       " 'Swimwear',\n",
       " 'Teeth_Hygeine',\n",
       " 'Tennis',\n",
       " 'Tools',\n",
       " 'Toys',\n",
       " 'Weights',\n",
       " 'Winning',\n",
       " 'imagenet-yolo-dataset.xlsx',\n",
       " 'organize_files.ipynb']"
      ]
     },
     "execution_count": 5,
     "metadata": {},
     "output_type": "execute_result"
    }
   ],
   "source": [
    "sorted(os.listdir())"
   ]
  },
  {
   "cell_type": "code",
   "execution_count": null,
   "metadata": {},
   "outputs": [],
   "source": []
  }
 ],
 "metadata": {
  "kernelspec": {
   "display_name": "pt_nightly",
   "language": "python",
   "name": "python3"
  },
  "language_info": {
   "codemirror_mode": {
    "name": "ipython",
    "version": 3
   },
   "file_extension": ".py",
   "mimetype": "text/x-python",
   "name": "python",
   "nbconvert_exporter": "python",
   "pygments_lexer": "ipython3",
   "version": "3.10.8"
  },
  "orig_nbformat": 4,
  "vscode": {
   "interpreter": {
    "hash": "6ee3a643af610f2ea1687b85e9c7f60463d59a59612922ed148404b0b42aefa7"
   }
  }
 },
 "nbformat": 4,
 "nbformat_minor": 2
}
